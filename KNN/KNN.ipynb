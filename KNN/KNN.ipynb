{
 "cells": [
  {
   "attachments": {},
   "cell_type": "markdown",
   "id": "0b30c1b7",
   "metadata": {},
   "source": [
    "## KNN Classifier"
   ]
  },
  {
   "cell_type": "code",
   "execution_count": 1,
   "id": "9c6302d9",
   "metadata": {},
   "outputs": [],
   "source": [
    "import numpy as np\n",
    "import pandas as pd\n",
    "from statistics import mode"
   ]
  },
  {
   "cell_type": "code",
   "execution_count": 2,
   "id": "386ee562",
   "metadata": {},
   "outputs": [],
   "source": [
    "class KNN:\n",
    "    def __init__(self, metric, k):\n",
    "        self.metric = metric\n",
    "        self.k = k\n",
    "\n",
    "    def fit(self, X_train, y_train):\n",
    "        self.X = X_train\n",
    "        self.y = y_train\n",
    "\n",
    "    def predict(self, sample):\n",
    "        distance = []\n",
    "\n",
    "        for x in self.X.values:\n",
    "            if self.metric == \"eucledian\" or self.metric == \"e\":\n",
    "                distance.append(np.sqrt(((sample - x) ** 2).sum()))\n",
    "            elif self.metric == \"manhattan\" or self.metric == \"m\":\n",
    "                distance.append(abs(sample - x).sum())\n",
    "        \n",
    "        indices = np.argsort(distance)[:self.k]\n",
    "        nearest_labels = [y_train.iloc[i] for i in indices]\n",
    "        \n",
    "        return mode(np.array(nearest_labels))\n",
    "\n",
    "    def score(self, X_test, y_test):\n",
    "        predicted = []\n",
    "\n",
    "        for x in X_test.values:\n",
    "            predicted.append(self.predict(x))\n",
    "\n",
    "        predicted = pd.Series(predicted)\n",
    "        actual = pd.Series(y_test.values)\n",
    "        num = (predicted == actual).sum()\n",
    "        total = len(actual)\n",
    "\n",
    "        return (num / total)"
   ]
  },
  {
   "attachments": {},
   "cell_type": "markdown",
   "id": "6c86086d",
   "metadata": {},
   "source": [
    "<hr>"
   ]
  },
  {
   "attachments": {},
   "cell_type": "markdown",
   "id": "a93adce6",
   "metadata": {},
   "source": [
    "## Iris Dataset"
   ]
  },
  {
   "cell_type": "code",
   "execution_count": 3,
   "id": "0d0ee3d9",
   "metadata": {
    "scrolled": true
   },
   "outputs": [],
   "source": [
    "from sklearn.datasets import load_iris\n",
    "\n",
    "data = load_iris(as_frame=True)\n",
    "\n",
    "features = data.data\n",
    "target = data.target"
   ]
  },
  {
   "attachments": {},
   "cell_type": "markdown",
   "id": "517df60f",
   "metadata": {},
   "source": [
    "## Splitting Dataset for Cross Validation"
   ]
  },
  {
   "cell_type": "code",
   "execution_count": 4,
   "id": "f6c8462c",
   "metadata": {},
   "outputs": [],
   "source": [
    "from sklearn.model_selection import train_test_split\n",
    "\n",
    "X_train, X_test, y_train, y_test = train_test_split(features, target, random_state=20)"
   ]
  },
  {
   "attachments": {},
   "cell_type": "markdown",
   "id": "ebb381b5",
   "metadata": {},
   "source": [
    "<hr>"
   ]
  },
  {
   "attachments": {},
   "cell_type": "markdown",
   "id": "2dc5fca7",
   "metadata": {},
   "source": [
    "## Self Implemented KNN "
   ]
  },
  {
   "cell_type": "code",
   "execution_count": 5,
   "id": "e8106820",
   "metadata": {
    "scrolled": false
   },
   "outputs": [
    {
     "data": {
      "text/plain": [
       "0.9736842105263158"
      ]
     },
     "execution_count": 5,
     "metadata": {},
     "output_type": "execute_result"
    }
   ],
   "source": [
    "knn = KNN(metric = 'e', k = 10)\n",
    "\n",
    "knn.fit(X_train, y_train)\n",
    "\n",
    "knn.score(X_test, y_test)"
   ]
  },
  {
   "attachments": {},
   "cell_type": "markdown",
   "id": "ce68a154",
   "metadata": {},
   "source": [
    "## Sklearn KNN"
   ]
  },
  {
   "cell_type": "code",
   "execution_count": 6,
   "id": "faa610d2",
   "metadata": {},
   "outputs": [
    {
     "data": {
      "text/plain": [
       "0.9736842105263158"
      ]
     },
     "execution_count": 6,
     "metadata": {},
     "output_type": "execute_result"
    }
   ],
   "source": [
    "from sklearn.neighbors import KNeighborsClassifier\n",
    "\n",
    "sklearn_knn = KNeighborsClassifier(metric='euclidean', n_neighbors=10)\n",
    "\n",
    "sklearn_knn.fit(X_train, y_train)\n",
    "\n",
    "sklearn_knn.score(X_test, y_test)"
   ]
  },
  {
   "attachments": {},
   "cell_type": "markdown",
   "id": "ab9eac77",
   "metadata": {},
   "source": [
    "<hr>"
   ]
  },
  {
   "attachments": {},
   "cell_type": "markdown",
   "id": "e0900a0e",
   "metadata": {},
   "source": [
    "## Comparison"
   ]
  },
  {
   "cell_type": "code",
   "execution_count": 7,
   "id": "12976b2c",
   "metadata": {},
   "outputs": [],
   "source": [
    "import matplotlib.pyplot as plt"
   ]
  },
  {
   "cell_type": "code",
   "execution_count": 8,
   "id": "552b00f0",
   "metadata": {},
   "outputs": [],
   "source": [
    "self_scores = []\n",
    "for k in range(1,41):\n",
    "    self_scores.append(knn.score(X_test, y_test))\n",
    "\n",
    "sklearn_scores = []\n",
    "for k in range(1,41):\n",
    "    sklearn_scores.append(sklearn_knn.score(X_test, y_test))"
   ]
  },
  {
   "cell_type": "code",
   "execution_count": 9,
   "id": "a55fc0a3",
   "metadata": {
    "scrolled": false
   },
   "outputs": [
    {
     "data": {
      "image/png": "[encoded data removed]",
      "text/plain": [
       "<Figure size 1000x500 with 1 Axes>"
      ]
     },
     "metadata": {},
     "output_type": "display_data"
    }
   ],
   "source": [
    "plt.figure(figsize=(10,5))\n",
    "\n",
    "plt.plot(range(1,41), self_scores, color=\"b\")\n",
    "plt.plot(range(1,41), sklearn_scores, color=\"r\")\n",
    "plt.legend([\"Self\", \"Sklearn\"])\n",
    "plt.ylabel(\"Score\")\n",
    "plt.xlabel(\"k\")\n",
    "\n",
    "plt.show()"
   ]
  }
 ],
 "metadata": {
  "kernelspec": {
   "display_name": "Python 3 (ipykernel)",
   "language": "python",
   "name": "python3"
  },
  "language_info": {
   "codemirror_mode": {
    "name": "ipython",
    "version": 3
   },
   "file_extension": ".py",
   "mimetype": "text/x-python",
   "name": "python",
   "nbconvert_exporter": "python",
   "pygments_lexer": "ipython3",
   "version": "3.11.0"
  }
 },
 "nbformat": 4,
 "nbformat_minor": 5
}
